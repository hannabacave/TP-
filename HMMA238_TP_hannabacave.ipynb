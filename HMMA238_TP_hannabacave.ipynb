{
 "cells": [
  {
   "cell_type": "markdown",
   "metadata": {},
   "source": [
    "# TP : Le jeu de la vie. "
   ]
  },
  {
   "cell_type": "markdown",
   "metadata": {},
   "source": [
    "Le jeu de la vie mis au point par le mathématicien John Horton Conway permet de simuler blablabla"
   ]
  },
  {
   "cell_type": "code",
   "execution_count": 1,
   "metadata": {},
   "outputs": [],
   "source": [
    "import matplotlib.pyplot as plt\n",
    "import numpy as np"
   ]
  },
  {
   "cell_type": "code",
   "execution_count": 2,
   "metadata": {},
   "outputs": [],
   "source": [
    "filename = \"HMMA238_TP_hannabacave.ipynb\"\n",
    "taille_str = len(filename)\n",
    "ma_graine = taille_str % 6\n"
   ]
  },
  {
   "cell_type": "code",
   "execution_count": 3,
   "metadata": {},
   "outputs": [],
   "source": [
    "def calcul_nb_voisins(Z):\n",
    "    forme = len(Z), len(Z[0])\n",
    "    N = [[0,] * (forme[0]) for i in range(forme[1])]\n",
    "    for x in range(1, forme[0] - 1):\n",
    "        for y in range(1, forme[1] - 1):\n",
    "            N[x][y] = Z[x - 1][y - 1] + Z[x][y - 1] + Z[x + 1][y - 1] + Z[x - 1][y] + Z[x + 1][y] + Z[x - 1][y + 1] + Z[x][y + 1] + Z[x + 1][y + 1]\n",
    "    return N"
   ]
  },
  {
   "cell_type": "code",
   "execution_count": 4,
   "metadata": {},
   "outputs": [],
   "source": [
    "def iteration_jeu(Z):\n",
    "    \"\"\"Calcule la matrice du jeu un cran plus tard\"\"\"\n",
    "    forme = len(Z), len(Z[0])\n",
    "    N = calcul_nb_voisins(Z)\n",
    "    for x in range(1, forme[0] - 1):\n",
    "        for y in range(1, forme[1] - 1):\n",
    "            if Z[x][y] == 1 and (N[x][y] < 2 or N[x][y] > 3):\n",
    "                Z[x][y] = 0 #la cellule meurt\n",
    "            elif Z[x][y] == 0 and N[x][y] == 3:\n",
    "                Z[x][y] = 1 #la cellule nait\n",
    "    return(Z)"
   ]
  },
  {
   "cell_type": "code",
   "execution_count": 9,
   "metadata": {},
   "outputs": [],
   "source": [
    "Z = np.array([[0,0,0,0,0,0],\n",
    "    [0,0,0,1,0,0],\n",
    "    [0,1,0,1,0,0],\n",
    "    [0,0,1,1,0,0],\n",
    "    [0,0,0,0,0,0],\n",
    "    [0,0,0,0,0,0]])"
   ]
  },
  {
   "cell_type": "code",
   "execution_count": 10,
   "metadata": {},
   "outputs": [
    {
     "data": {
      "image/png": "[encoded data removed]",
      "text/plain": [
       "<Figure size 504x216 with 10 Axes>"
      ]
     },
     "metadata": {
      "image/png": {
       "height": 187,
       "width": 418
      },
      "needs_background": "light"
     },
     "output_type": "display_data"
    }
   ],
   "source": [
    "plt.figure(figsize=(7,3))\n",
    "for i in range(10):\n",
    "    if i == 0:\n",
    "        plt.subplot(2,5,1)\n",
    "        plt.imshow(Z)\n",
    "    else:\n",
    "        plt.subplot(2, 5, i+1)\n",
    "        plt.imshow(iteration_jeu(Z))"
   ]
  },
  {
   "cell_type": "code",
   "execution_count": 21,
   "metadata": {},
   "outputs": [
    {
     "data": {
      "text/plain": [
       "array([[0, 0, 0, 0, 0, 0],\n",
       "       [0, 0, 0, 1, 0, 0],\n",
       "       [0, 1, 0, 1, 0, 0],\n",
       "       [0, 0, 1, 1, 0, 0],\n",
       "       [0, 0, 0, 0, 0, 0],\n",
       "       [0, 0, 0, 0, 0, 0]])"
      ]
     },
     "execution_count": 21,
     "metadata": {},
     "output_type": "execute_result"
    }
   ],
   "source": []
  },
  {
   "cell_type": "code",
   "execution_count": 29,
   "metadata": {},
   "outputs": [
    {
     "data": {
      "text/plain": [
       "array([[0, 0, 0, 0, 0, 0],\n",
       "       [0, 0, 0, 0, 0, 0],\n",
       "       [0, 0, 0, 0, 0, 0],\n",
       "       [0, 0, 0, 1, 1, 0],\n",
       "       [0, 0, 0, 1, 1, 0],\n",
       "       [0, 0, 0, 0, 0, 0]])"
      ]
     },
     "execution_count": 29,
     "metadata": {},
     "output_type": "execute_result"
    }
   ],
   "source": []
  }
 ],
 "metadata": {
  "kernelspec": {
   "display_name": "Python 3",
   "language": "python",
   "name": "python3"
  },
  "language_info": {
   "codemirror_mode": {
    "name": "ipython",
    "version": 3
   },
   "file_extension": ".py",
   "mimetype": "text/x-python",
   "name": "python",
   "nbconvert_exporter": "python",
   "pygments_lexer": "ipython3",
   "version": "3.7.4"
  }
 },
 "nbformat": 4,
 "nbformat_minor": 2
}
