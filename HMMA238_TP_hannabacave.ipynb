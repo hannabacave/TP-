{
 "cells": [
  {
   "cell_type": "markdown",
   "metadata": {},
   "source": [
    "# TP : Le jeu de la vie. "
   ]
  },
  {
   "cell_type": "markdown",
   "metadata": {},
   "source": [
    "Le jeu de la vie mis au point par le mathématicien John Horton Conway est un automate cellulaire permettant de simuler la vie d'une cellule. Dans ce TP nous avons donc programmé ce jeu. "
   ]
  },
  {
   "cell_type": "code",
   "execution_count": null,
   "metadata": {},
   "outputs": [],
   "source": [
    "import numpy as np\n",
    "import utils\n",
    "import matplotlib.pyplot as plt\n",
    "from matplotlib import animation"
   ]
  },
  {
   "cell_type": "code",
   "execution_count": null,
   "metadata": {},
   "outputs": [],
   "source": [
    "%matplotlib notebook"
   ]
  },
  {
   "cell_type": "markdown",
   "metadata": {},
   "source": [
    "## Questions 1, 2, 3 : Création de la graine"
   ]
  },
  {
   "cell_type": "code",
   "execution_count": null,
   "metadata": {},
   "outputs": [],
   "source": [
    "filename = \"HMMA238_TP_hannabacave.ipynb\"\n",
    "taille_str = len(filename)\n",
    "ma_graine = taille_str % 6"
   ]
  },
  {
   "cell_type": "markdown",
   "metadata": {},
   "source": [
    "## Question 4 : Calcul du nombre de voisins"
   ]
  },
  {
   "cell_type": "markdown",
   "metadata": {},
   "source": [
    "Dans cette question, on se propose tout d'abord d'implémenter une fonction permettant de calculer le nombre de voisins de chaque cellule. Ensuite, avec un exemple on vérifiera l'exactitude de notre fonction. "
   ]
  },
  {
   "cell_type": "code",
   "execution_count": null,
   "metadata": {},
   "outputs": [],
   "source": [
    "def calcul_nb_voisins(Z):\n",
    "    forme = len(Z), len(Z[0])\n",
    "    N = [[0, ] * (forme[0]) for i in range(forme[1])]\n",
    "    for x in range(1, forme[0] - 1):\n",
    "        for y in range(1, forme[1] - 1):\n",
    "            N[x][y] = Z[x - 1][y - 1] + Z[x][y - 1] + Z[x + 1][y - 1] + Z[x - 1][y] + \\\n",
    "                Z[x + 1][y] + Z[x - 1][y + 1] + Z[x][y + 1] + Z[x + 1][y + 1]\n",
    "    return N"
   ]
  },
  {
   "cell_type": "code",
   "execution_count": null,
   "metadata": {},
   "outputs": [],
   "source": [
    "Z = [[0, 0, 0, 0, 0, 0],\n",
    "     [0, 0, 0, 1, 0, 0],\n",
    "     [0, 1, 0, 1, 0, 0],\n",
    "     [0, 0, 1, 1, 0, 0],\n",
    "     [0, 0, 0, 0, 0, 0],\n",
    "     [0, 0, 0, 0, 0, 0]]\n",
    "calcul_nb_voisins(Z)"
   ]
  },
  {
   "cell_type": "markdown",
   "metadata": {},
   "source": [
    "Ainsi, la fonction calcul_nb_voisins qui prend en entrée une matrice Z renvoie la matrice N donnant le nombre de voisins de chaque élement de la matrice initiale Z. On a pu vérifier l'exactitude de ce calcul à la main. "
   ]
  },
  {
   "cell_type": "markdown",
   "metadata": {},
   "source": [
    "## Questions 5 et 6 : Affichage de 10 itérations du jeu et interprétation"
   ]
  },
  {
   "cell_type": "markdown",
   "metadata": {},
   "source": [
    "Après avoir implémenter la fonction iteration_jeu nous permettant d'obtenir une itération du jeu. En partant de la matrice Z, on se propose d'afficher les 10 premières itérations du jeu sur un quadrillage. "
   ]
  },
  {
   "cell_type": "code",
   "execution_count": null,
   "metadata": {},
   "outputs": [],
   "source": [
    "def iteration_jeu(Z):\n",
    "    \"\"\"Cette fonction effectue une itération du jeu de la vie, puis actualise la matrice Z avec cette itération\"\"\"\n",
    "    forme = len(Z), len(Z[0])\n",
    "    N = calcul_nb_voisins(Z)\n",
    "    for x in range(1, forme[0] - 1):\n",
    "        for y in range(1, forme[1] - 1):\n",
    "            if Z[x][y] == 1 and (N[x][y] < 2 or N[x][y] > 3):\n",
    "                Z[x][y] = 0  # la cellule meurt\n",
    "            elif Z[x][y] == 0 and N[x][y] == 3:\n",
    "                Z[x][y] = 1  # la cellule nait\n",
    "    return(Z)"
   ]
  },
  {
   "cell_type": "code",
   "execution_count": null,
   "metadata": {},
   "outputs": [],
   "source": [
    "Z = np.array([[0, 0, 0, 0, 0, 0],\n",
    "              [0, 0, 0, 1, 0, 0],\n",
    "              [0, 1, 0, 1, 0, 0],\n",
    "              [0, 0, 1, 1, 0, 0],\n",
    "              [0, 0, 0, 0, 0, 0],\n",
    "              [0, 0, 0, 0, 0, 0]])\n",
    "utils.affichagede9iterations(Z, iteration_jeu)"
   ]
  },
  {
   "cell_type": "markdown",
   "metadata": {},
   "source": [
    "De l'itération 0 à l'itération 4, on observe que les cellules se déplacent du haut gauche vers le bas droit de la grille. Ensuite, elles continuent d'évoluer dans le bas droit de la grille. Finalement, à partir de l'itération 7 les cellules se stabilisent et n'évoluent plus : on parle d'équilibre. "
   ]
  },
  {
   "cell_type": "markdown",
   "metadata": {},
   "source": [
    "## Question 7 : Exemple simple pour l'implémentation sans numpy"
   ]
  },
  {
   "cell_type": "code",
   "execution_count": null,
   "metadata": {},
   "outputs": [],
   "source": [
    "vect = np.array([0, 1, 0, 0, 1, 1])\n",
    "nb_vect = np.zeros(vect.shape)\n",
    "nb_vect[1:-1] += (vect[:-2] + vect[2:])\n",
    "nb_vect"
   ]
  },
  {
   "cell_type": "markdown",
   "metadata": {},
   "source": [
    "Dans cette question, on se propose de rendre inactif le bord de la grille en y plaçant des zéros, puis de compléter l'interieur en y ajoutant la somme du vecteur composé de la coordonnée numéro 2 jusqu'à la dernière de vect et du vecteur composée de la première à l'avant avant dernière coordonnée de vect."
   ]
  },
  {
   "cell_type": "markdown",
   "metadata": {},
   "source": [
    "## Question 8 : Implémentation sans numpy, calcul du nombre de voisins"
   ]
  },
  {
   "cell_type": "markdown",
   "metadata": {},
   "source": [
    "Dans cette question on se propose d'utiliser le slicing afin de pouvoir implémenter la fonction calcul_nb_voisins_np. Pour ce faire, on s'est basé sur la fonction calcul_nb_voisins créée à la question 4 et de l'exemple effectué à la question précédente. "
   ]
  },
  {
   "cell_type": "code",
   "execution_count": null,
   "metadata": {},
   "outputs": [],
   "source": [
    "def calcul_nb_voisins_np(Z):\n",
    "    nb_voisins = np.zeros(Z.shape)\n",
    "    nb_voisins[1:-1, 1:-1] = Z[:-2, :-2] + Z[1:-1, :-2] + Z[2:, :-2] + \\\n",
    "        Z[:-2, 1:-1] + Z[2:, 1:-1] + Z[:-2, 2:] + Z[1:-1, 2:] + Z[2:, 2:]\n",
    "    return(nb_voisins)"
   ]
  },
  {
   "cell_type": "markdown",
   "metadata": {},
   "source": [
    "## Question 9 : Modification de la fonction iteration_jeu"
   ]
  },
  {
   "cell_type": "code",
   "execution_count": null,
   "metadata": {},
   "outputs": [],
   "source": [
    "def iteration_jeu_np(Z):\n",
    "    forme = Z.shape\n",
    "    N = calcul_nb_voisins_np(Z)\n",
    "    for x in range(1, forme[0] - 1):\n",
    "        for y in range(1, forme[1] - 1):\n",
    "            if Z[x][y] == 1 and (N[x][y] < 2 or N[x][y] > 3):\n",
    "                Z[x][y] = 0  # la cellule meurt\n",
    "            elif Z[x][y] == 0 and N[x][y] == 3:\n",
    "                Z[x][y] = 1  # la cellule nait\n",
    "    return(Z)"
   ]
  },
  {
   "cell_type": "markdown",
   "metadata": {},
   "source": [
    "La fonction iteration_jeu_np étant créée, on se propose de vérifier si pour la matrice Z cette dernière renvoie les mêmes résultats que la fonction iteration_jeu. Pour ce faire, on utilise la commande np.allclose() qui va nous permettre de vérifier, sur un exemple (ici la matrice Z) si les deux fonctions renvoient la même chose."
   ]
  },
  {
   "cell_type": "code",
   "execution_count": null,
   "metadata": {},
   "outputs": [],
   "source": [
    "if np.allclose(iteration_jeu_np(Z), iteration_jeu(Z)) == True:\n",
    "    print('Les deux fonctions renvoient la même chose')"
   ]
  },
  {
   "cell_type": "markdown",
   "metadata": {},
   "source": [
    "## Question 10 : Affichage de l'état de la matrice après n itérations du jeu"
   ]
  },
  {
   "cell_type": "markdown",
   "metadata": {},
   "source": [
    "Dans cette question, on va créer une fonction prenant en argument une matrice Z et un nombre d'itérations n et nous renvoyant l'état de la matrice après les n itérations. "
   ]
  },
  {
   "cell_type": "code",
   "execution_count": null,
   "metadata": {},
   "outputs": [],
   "source": [
    "def jeu_np(Z_ini, nb_iter):\n",
    "    for i in range(nb_iter-1):\n",
    "        iteration_jeu_np(Z_ini)\n",
    "    plt.imshow(iteration_jeu(Z_ini))\n",
    "    plt.title(\"Affichage de l'itération\" + \" \" +\n",
    "              str(nb_iter) + \" \" + \"du jeu.\")"
   ]
  },
  {
   "cell_type": "markdown",
   "metadata": {},
   "source": [
    "On se propose, par exemple, d'afficher l'itération numéro 5 du jeu calculé à partir de la matrice Z. "
   ]
  },
  {
   "cell_type": "code",
   "execution_count": null,
   "metadata": {},
   "outputs": [],
   "source": [
    "Z = np.array([[0, 0, 0, 0, 0, 0],\n",
    "              [0, 0, 0, 1, 0, 0],\n",
    "              [0, 1, 0, 1, 0, 0],\n",
    "              [0, 0, 1, 1, 0, 0],\n",
    "              [0, 0, 0, 0, 0, 0],\n",
    "              [0, 0, 0, 0, 0, 0]])\n",
    "jeu_np(Z, 5)"
   ]
  },
  {
   "cell_type": "markdown",
   "metadata": {},
   "source": [
    "## Question 11 : Création d'une animation simulant l'évolution du jeu"
   ]
  },
  {
   "cell_type": "markdown",
   "metadata": {},
   "source": [
    "En initialisant la matrice Z_huge, on se propose de voir l'évolution du jeu sur une grille de taille 100*100."
   ]
  },
  {
   "cell_type": "code",
   "execution_count": null,
   "metadata": {},
   "outputs": [],
   "source": [
    "Z_huge = np.zeros((100, 100))\n",
    "Z_np = np.array(\n",
    "    [[0, 0, 0, 0, 0, 0],\n",
    "     [0, 0, 0, 1, 0, 0],\n",
    "     [0, 1, 0, 1, 0, 0],\n",
    "     [0, 0, 1, 1, 0, 0],\n",
    "     [0, 0, 0, 0, 0, 0],\n",
    "     [0, 0, 0, 0, 0, 0]])\n",
    "Z_huge[10:16, 10:16] = Z_np"
   ]
  },
  {
   "cell_type": "code",
   "execution_count": null,
   "metadata": {},
   "outputs": [],
   "source": [
    "def animer(mat):\n",
    "    fig = plt.gcf()\n",
    "    im = plt.imshow(mat)\n",
    "    plt.show()\n",
    "    plt.title(\"Animation du jeu\")\n",
    "\n",
    "    def animate(frame):\n",
    "        im.set_data(iteration_jeu_np(mat))\n",
    "        return im,\n",
    "\n",
    "    ani = animation.FuncAnimation(fig,  animate,  frames=200)\n",
    "\n",
    "    return(ani)"
   ]
  },
  {
   "cell_type": "code",
   "execution_count": null,
   "metadata": {},
   "outputs": [],
   "source": [
    "%matplotlib notebook\n",
    "animer(Z_huge)"
   ]
  },
  {
   "cell_type": "markdown",
   "metadata": {},
   "source": [
    "## Question 12 : Création d'une animation simulant le jeu intialisé aléatoirement"
   ]
  },
  {
   "cell_type": "markdown",
   "metadata": {},
   "source": [
    "Après avoir créé notre matrice aléatoire de taille 100 par 100, suivant un modèle de Bernouilli dont l'espérance est égale à notre prop_active, on se propose d'effectuer une animation du jeu à partir de notre matrice aléatoire. "
   ]
  },
  {
   "cell_type": "code",
   "execution_count": null,
   "metadata": {},
   "outputs": [],
   "source": [
    "prop_active = (1 + ma_graine) * 10 / 100\n",
    "Mat = np.zeros((100, 100))\n",
    "Bin = np.random.binomial(1, prop_active, 100*100).reshape((100, 100))\n",
    "Mat[1:-1, 1:-1] = Bin[1:-1, 1:-1]"
   ]
  },
  {
   "cell_type": "code",
   "execution_count": null,
   "metadata": {},
   "outputs": [],
   "source": [
    "%matplotlib notebook\n",
    "animer(Mat)"
   ]
  },
  {
   "cell_type": "markdown",
   "metadata": {},
   "source": [
    "## Question 13 : Affichage de l'évolution de différents regroupement cellulaire"
   ]
  },
  {
   "cell_type": "markdown",
   "metadata": {},
   "source": [
    "### 1) Jeux stables"
   ]
  },
  {
   "cell_type": "markdown",
   "metadata": {},
   "source": [
    "Tout d'abord, on se propose d'afficher dix itérations de trois configurations du jeu *stables*. "
   ]
  },
  {
   "cell_type": "markdown",
   "metadata": {},
   "source": [
    "#### a) Le serpent"
   ]
  },
  {
   "cell_type": "code",
   "execution_count": null,
   "metadata": {
    "scrolled": true
   },
   "outputs": [],
   "source": [
    "utils.affichagede9iterations(utils.S1, iteration_jeu_np)"
   ]
  },
  {
   "cell_type": "markdown",
   "metadata": {},
   "source": [
    "#### b) La mie de pain"
   ]
  },
  {
   "cell_type": "code",
   "execution_count": null,
   "metadata": {},
   "outputs": [],
   "source": [
    "utils.affichagede9iterations(utils.S2, iteration_jeu_np)"
   ]
  },
  {
   "cell_type": "markdown",
   "metadata": {},
   "source": [
    "#### c) La bateau (qui coule)"
   ]
  },
  {
   "cell_type": "code",
   "execution_count": null,
   "metadata": {},
   "outputs": [],
   "source": [
    "utils.affichagede9iterations(utils.S3, iteration_jeu_np)"
   ]
  },
  {
   "cell_type": "markdown",
   "metadata": {},
   "source": [
    "### 2) Jeu oscillant :"
   ]
  },
  {
   "cell_type": "markdown",
   "metadata": {},
   "source": [
    "Nous allons maintenant simuler un jeu oscillant de période 2."
   ]
  },
  {
   "cell_type": "code",
   "execution_count": null,
   "metadata": {},
   "outputs": [],
   "source": [
    "utils.affichagede9iterations(utils.O, iteration_jeu_np)"
   ]
  },
  {
   "cell_type": "markdown",
   "metadata": {},
   "source": [
    "## Question 14 : Création d'une classe jeu de la vie"
   ]
  },
  {
   "cell_type": "code",
   "execution_count": null,
   "metadata": {},
   "outputs": [],
   "source": [
    "class JeuDeLaVie:\n",
    "\n",
    "    def __init__(self, init_state, _time_T):\n",
    "        self.init_state = init_state\n",
    "        self._time_T = _time_T\n",
    "        self._dimension = (n_1, n_2) = init_state.shape\n",
    "        self._historic_state = np.zeros((n1, n2, _time_T+1))\n",
    "        self._historic_state[:, :, 0] = self.init_state\n",
    "        self.average_life = np.zeros((n_1, n_2))\n",
    "\n",
    "    def play(self):\n",
    "        t = 1\n",
    "        while(t <= self._time_T):\n",
    "            self._historic_state[:, :, t-1] = \\\n",
    "                iteration_jeu_np(self._historic_state[:, :, t])\n",
    "            self.average_life = np.mean(self._historic_state, axis=(2))\n",
    "            t += 1\n",
    "\n",
    "    def plot(self):\n",
    "        plt.imshow(self.average_life)\n",
    "        plt.show()"
   ]
  },
  {
   "cell_type": "markdown",
   "metadata": {},
   "source": [
    "## Question bonus : Implémentation du jeu sur un tore"
   ]
  },
  {
   "cell_type": "markdown",
   "metadata": {},
   "source": [
    "Puisque nous ne pouvons pas créer une matrice de taille infini pour implémenter le jeu \"à la Pac-Man\", nous allons utiliser la fonction np.pad pour que la première valeurs de la matrice soit aussi la dernière. Avec ces conditions là nous allons reprendre les fonctions précédentes pour construire le jeu que l'on va essayer d'animer avec la matrice aléatoire construite à la question 12. "
   ]
  },
  {
   "cell_type": "code",
   "execution_count": null,
   "metadata": {},
   "outputs": [],
   "source": [
    "def calcul_nb_voisins_tore(Z):\n",
    "    M = np.pad(Z, 1, mode='wrap')\n",
    "    nb_voisins = M[0:-2, 0:-2] + M[1:-1, :-2] + M[2:, :-2] + \\\n",
    "        M[:-2, 1:-1] + M[2, 1:-1] + M[:-2, 2:] + M[1:-1, 2:] + M[2:, 2:]\n",
    "    return(nb_voisins)"
   ]
  },
  {
   "cell_type": "code",
   "execution_count": null,
   "metadata": {},
   "outputs": [],
   "source": [
    "def iteration_jeu_tore(Z):\n",
    "    forme = Z.shape\n",
    "    N = calcul_nb_voisins_tore(Z)\n",
    "    for x in range(1, forme[0] - 1):\n",
    "        for y in range(1, forme[1] - 1):\n",
    "            if Z[x][y] == 1 and (N[x][y] < 2 or N[x][y] > 3):\n",
    "                Z[x][y] = 0  # la cellule meurt\n",
    "            elif Z[x][y] == 0 and N[x][y] == 3:\n",
    "                Z[x][y] = 1  # la cellule nait\n",
    "    return(Z)"
   ]
  },
  {
   "cell_type": "code",
   "execution_count": null,
   "metadata": {},
   "outputs": [],
   "source": [
    "def animer_tore(mat):\n",
    "    fig = plt.gcf()\n",
    "    im = plt.imshow(mat)\n",
    "    plt.show()\n",
    "    plt.title(\"Animation du jeu sur un tore\")\n",
    "\n",
    "    def animate(frame):\n",
    "        im.set_data(iteration_jeu_np(mat))\n",
    "        return im,\n",
    "\n",
    "    ani = animation.FuncAnimation(fig,  animate,  frames=200)\n",
    "\n",
    "    return(ani)"
   ]
  },
  {
   "cell_type": "code",
   "execution_count": null,
   "metadata": {},
   "outputs": [],
   "source": [
    "%matplotlib notebook\n",
    "animer_tore(Bin)"
   ]
  }
 ],
 "metadata": {
  "kernelspec": {
   "display_name": "Python 3",
   "language": "python",
   "name": "python3"
  },
  "language_info": {
   "codemirror_mode": {
    "name": "ipython",
    "version": 3
   },
   "file_extension": ".py",
   "mimetype": "text/x-python",
   "name": "python",
   "nbconvert_exporter": "python",
   "pygments_lexer": "ipython3",
   "version": "3.7.4"
  },
  "toc": {
   "base_numbering": 1,
   "nav_menu": {},
   "number_sections": false,
   "sideBar": true,
   "skip_h1_title": false,
   "title_cell": "Table of Contents",
   "title_sidebar": "Contents",
   "toc_cell": false,
   "toc_position": {},
   "toc_section_display": true,
   "toc_window_display": false
  }
 },
 "nbformat": 4,
 "nbformat_minor": 2
}
